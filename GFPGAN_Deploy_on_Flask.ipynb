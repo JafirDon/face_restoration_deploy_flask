{
  "cells": [
    {
      "cell_type": "markdown",
      "source": [
        "##Installation"
      ],
      "metadata": {
        "id": "R3dTYI7kTHCB"
      }
    },
    {
      "cell_type": "code",
      "source": [
        "!git clone https://github.com/JafirDon/face_restoration_deploy_flask.git\n",
        "%cd face_restoration_deploy_flask"
      ],
      "metadata": {
        "id": "WlCbtfsdSnvV"
      },
      "execution_count": null,
      "outputs": []
    },
    {
      "cell_type": "code",
      "execution_count": null,
      "metadata": {
        "id": "uJPOqOmRHJMW"
      },
      "outputs": [],
      "source": [
        "!pip install basicsr\n",
        "!pip install facexlib\n",
        "!pip install realesrgan"
      ]
    },
    {
      "cell_type": "code",
      "execution_count": null,
      "metadata": {
        "id": "GB91FLl1Mebo"
      },
      "outputs": [],
      "source": [
        "!pip install pyngrok==4.1.1\n",
        "!pip install flask_ngrok"
      ]
    },
    {
      "cell_type": "code",
      "execution_count": null,
      "metadata": {
        "colab": {
          "base_uri": "https://localhost:8080/"
        },
        "id": "o8Kjnp8aMqF1",
        "outputId": "bfb12ab5-823a-4397-ea23-e02360c72801"
      },
      "outputs": [
        {
          "name": "stdout",
          "output_type": "stream",
          "text": [
            "Authtoken saved to configuration file: /root/.ngrok2/ngrok.yml\n"
          ]
        }
      ],
      "source": [
        "!ngrok authtoken <your_auth_token>"
      ]
    },
    {
      "cell_type": "code",
      "execution_count": null,
      "metadata": {
        "colab": {
          "background_save": true
        },
        "id": "k2XES82qMGge"
      },
      "outputs": [],
      "source": [
        "%cd GFPGAN\n",
        "!pip install -r requirements.txt\n",
        "!python setup.py develop"
      ]
    },
    {
      "cell_type": "markdown",
      "source": [
        "## Getting Started"
      ],
      "metadata": {
        "id": "M_hwq40DTLgK"
      }
    },
    {
      "cell_type": "code",
      "source": [
        "!wget https://github.com/TencentARC/GFPGAN/releases/download/v1.3.0/GFPGANv1.3.pth -P experiments/pretrained_models"
      ],
      "metadata": {
        "id": "qH1DMvgUTE61"
      },
      "execution_count": null,
      "outputs": []
    },
    {
      "cell_type": "code",
      "execution_count": 1,
      "metadata": {
        "id": "DTT9EkkYOQy9"
      },
      "outputs": [],
      "source": [
        "!python run.py"
      ]
    },
    {
      "cell_type": "code",
      "execution_count": null,
      "metadata": {
        "id": "sDOfqIHYdW4t"
      },
      "outputs": [],
      "source": []
    }
  ],
  "metadata": {
    "colab": {
      "provenance": []
    },
    "kernelspec": {
      "display_name": "Python 3",
      "name": "python3"
    },
    "language_info": {
      "name": "python"
    }
  },
  "nbformat": 4,
  "nbformat_minor": 0
}